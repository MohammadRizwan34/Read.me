{
 "cells": [
  {
   "cell_type": "code",
   "execution_count": 14,
   "metadata": {},
   "outputs": [
    {
     "name": "stdout",
     "output_type": "stream",
     "text": [
      "Name:Mohammad Rizwan\n",
      "ID:5674\n",
      "Centre:Gulshan Campus\n",
      "Slot:Sunday 9 to 12\n",
      "Marks Obtained: 399\n",
      "Percentage: 79\n",
      "Grade:A\n"
     ]
    }
   ],
   "source": [
    "Name = \"Mohammad Rizwan\"\n",
    "ID = \"5674\"\n",
    "Centre = \"Gulshan Campus\" \n",
    "Slot = \"Sunday 9 to 12\"\n",
    "\n",
    "Phy = 78\n",
    "Maths = 88\n",
    "Eng = 79\n",
    "Comp = 82\n",
    "Chem = 72\n",
    "\n",
    "total_marks = int (Phy+Maths+Eng+Comp+Chem)\n",
    "percentage = int ((total_marks/500)*100)\n",
    "\n",
    "\n",
    "if percentage>= 80:\n",
    "    grade = \"A-1\"\n",
    "if percentage>= 70 and percentage < 80:\n",
    "    grade = \"A\"\n",
    "if percentage>= 60 and percentage < 70:\n",
    "    grade = \"B\"\n",
    "if percentage>= 50 and percentage < 70:\n",
    "    grade = \"C\"\n",
    "if percentage< 50:\n",
    "    grade = \"F\"\n",
    "    \n",
    "print (\"Name:\" + Name)\n",
    "print (\"ID:\" + ID)\n",
    "print (\"Centre:\" + Centre)\n",
    "print (\"Slot:\" + Slot)\n",
    "print (\"Marks Obtained:\" , total_marks)\n",
    "print (\"Percentage:\" , percentage)\n",
    "print (\"Grade:\" + grade)"
   ]
  },
  {
   "cell_type": "code",
   "execution_count": null,
   "metadata": {},
   "outputs": [],
   "source": []
  }
 ],
 "metadata": {
  "kernelspec": {
   "display_name": "Python 3",
   "language": "python",
   "name": "python3"
  },
  "language_info": {
   "codemirror_mode": {
    "name": "ipython",
    "version": 3
   },
   "file_extension": ".py",
   "mimetype": "text/x-python",
   "name": "python",
   "nbconvert_exporter": "python",
   "pygments_lexer": "ipython3",
   "version": "3.7.3"
  }
 },
 "nbformat": 4,
 "nbformat_minor": 2
}
